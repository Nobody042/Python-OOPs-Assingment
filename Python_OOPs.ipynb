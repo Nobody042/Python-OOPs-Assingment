{
  "cells": [
    {
      "cell_type": "markdown",
      "metadata": {
        "id": "QNb_cuhqJsn4"
      },
      "source": [
        "#Python OOPs\n",
        "\n"
      ]
    },
    {
      "cell_type": "markdown",
      "metadata": {
        "id": "SGQ2VrsLKOV_"
      },
      "source": [
        "1.What is Object-Oriented Programming (OOP)?\n",
        "\n",
        "Ans -\n",
        "\n",
        "Object-Oriented Programming (OOP) is a programming paradigm centered around the concept of \"objects\", which are instances of classes. These objects represent real-world entities and can contain data (called attributes or properties) and behavior (called methods or functions).\n",
        "\n",
        "**Key Concepts of OOP**:\n",
        "\n",
        "1.Class\n",
        "\n",
        "A blueprint for creating objects. It defines the attributes and behaviors that the objects created from it will have.\n",
        "Example: A Car class may have properties like color and speed, and methods like drive() or brake().\n",
        "\n",
        "2.Object\n",
        "\n",
        "An instance of a class. It holds actual values for the properties and can use the methods defined in the class.\n",
        "Example: myCar = Car(\"red\", 100) creates an object myCar from the Car class.\n",
        "\n",
        "3.Encapsulation\n",
        "\n",
        "Bundling data and methods that operate on that data within one unit (the class), and restricting access to some components.\n",
        "This helps protect the internal state of an object from unintended interference.\n",
        "\n",
        "4.Abstraction\n",
        "\n",
        "Hiding complex implementation details and showing only the necessary features.\n",
        "This simplifies the interface and makes code easier to use and understand.\n",
        "\n",
        "5.Inheritance\n",
        "\n",
        "A way for one class (child/subclass) to inherit properties and methods from another class (parent/superclass).\n",
        "It promotes code reuse.\n",
        "Example: A SportsCar class can inherit from the Car class and add more features.\n",
        "\n",
        "6.Polymorphism\n",
        "\n",
        "The ability to use a common interface for different data types or classes.\n",
        "Example: Different classes can define a method drive(), and the same function call will behave differently depending on the object.\n",
        "\n"
      ]
    },
    {
      "cell_type": "markdown",
      "metadata": {
        "id": "Jip4wsVDLMay"
      },
      "source": [
        "2.What is a class in OOP?\n",
        "\n",
        "Ans -\n",
        "\n",
        "A class in Object-Oriented Programming (OOP) is like a blueprint or template for creating objects. It defines the structure and behavior that the objects (instances) will have.\n",
        "\n",
        "**Think of it like this** :\n",
        "\n",
        " * A class is like the blueprint of a house.\n",
        "\n",
        " * An object is an actual house built from that blueprint.\n",
        " ---\n",
        " **A class typically defines**:\n",
        "\n",
        "1.Attributes (also called fields or properties):\n",
        "These are variables that hold the data or state of the object.\n",
        "\n",
        "2.Methods (also called functions):\n",
        "These define the behavior or actions the object can perform.\n",
        "\n",
        "\n",
        "\n"
      ]
    },
    {
      "cell_type": "markdown",
      "metadata": {
        "id": "HgVOvxJ7Mi4Q"
      },
      "source": [
        "3.What is an object in OOP?\n",
        "\n",
        "\n",
        "Ans -\n",
        "\n",
        "An object in Object-Oriented Programming (OOP) is an instance of a class. It represents a real-world entity with data (attributes) and behavior (methods) defined by its class.\n",
        "\n",
        "Example:\n",
        "\n",
        "If Car is a class, then my_car = Car(\"Toyota\", \"Red\") creates an object my_car with its own data.\n",
        "\n",
        "\n",
        "In short:\n",
        "Object = Class instance with actual values.\n",
        "\n",
        "\n",
        "\n",
        "\n",
        "\n",
        "\n",
        "\n",
        "\n"
      ]
    },
    {
      "cell_type": "markdown",
      "metadata": {
        "id": "ZjV2Z5SXNOe5"
      },
      "source": [
        "4.What is the difference between abstraction and encapsulation?\n",
        "\n",
        "Ans -\n",
        "\n",
        "The difference between abstraction and encapsulation in OOP lies in purpose and focus:\n",
        "\n",
        "🔹 Abstraction\n",
        "\n",
        "* Focus: Hiding complexity, showing only essential features.\n",
        "\n",
        "* Goal: To simplify usage for the user.\n",
        "\n",
        "* How: Achieved using abstract classes, interfaces, or methods.\n",
        "\n",
        "* Example: You drive a car without knowing how the engine works—just use the steering wheel and pedals.\n",
        "\n",
        "🔹 Encapsulation\n",
        "\n",
        "* Focus: Hiding internal data by wrapping it inside a class.\n",
        "\n",
        "* Goal: To protect data and maintain control over it.\n",
        "\n",
        "* How: Achieved using access modifiers (like private, public, protected) and getters/setters.\n",
        "\n",
        "* Example: A car’s speed can't be changed directly—you must use the accelerator, which controls it safely.\n",
        "\n",
        "\n",
        "\n",
        "\n",
        "\n"
      ]
    },
    {
      "cell_type": "markdown",
      "metadata": {
        "id": "w7IBFw55N1v4"
      },
      "source": [
        "5.What are dunder methods in Python?\n",
        "\n",
        "\n",
        "\n",
        "Ans -\n",
        "\n",
        "Dunder methods in Python (short for \"double underscore\" methods) are special built-in methods with names that start and end with double underscores, like __init__, __str__, or __add__.\n",
        "\n",
        "These methods are also called magic methods and are used to define how objects of a class behave in certain operations.\n",
        "\n",
        "🔹 Common Dunder Methods:\n",
        "\n",
        "Method / Purpose\n",
        "\n",
        "__init__ - \tConstructor, initializes an object\n",
        "\n",
        "__str__\t- Defines string representation (str(obj))\n",
        "\n",
        "__repr__ -\tOfficial representation (repr(obj))\n",
        "\n",
        "__len__ - \tDefines behavior for len(obj)\n",
        "\n",
        "__add__ - \tDefines behavior for + operator\n",
        "\n",
        "__eq__ - \tDefines behavior for == comparison\n",
        "\n",
        "They’re not meant to be called directly—Python uses them behind the scenes when you use built-in functions or operators.\n",
        "\n",
        "\n",
        "\n",
        "\n",
        "\n",
        "\n",
        "\n",
        "\n",
        "\n",
        "\n",
        "\n"
      ]
    },
    {
      "cell_type": "markdown",
      "metadata": {
        "id": "5awdt9jLPAN3"
      },
      "source": [
        "6.Explain the concept of inheritance in OOP?\n",
        "\n",
        "Ans -\n",
        "\n",
        "Inheritance in Object-Oriented Programming (OOP) is the concept where one class (child/subclass) can inherit the properties and methods of another class (parent/superclass).\n",
        "\n",
        "🔹 Why Use Inheritance?\n",
        "\n",
        " * Code Reusability: Reuse common code across multiple classes.\n",
        "\n",
        " * Extensibility: Extend or modify behaviors without changing the original code.\n",
        "\n",
        " * Hierarchy: Represent relationships like \"is-a\".\n",
        "\n",
        "🔹 Types of Inheritance:\n",
        "\n",
        "* Single – One child class inherits from one parent.\n",
        "\n",
        "* Multiple – A child inherits from multiple parents.\n",
        "\n",
        "* Multilevel – A child inherits from a parent, which also inherits from another class.\n",
        "\n",
        "* Hierarchical – Multiple children inherit from one parent.\n",
        "\n",
        "* Hybrid – A mix of the above types.\n",
        "\n",
        "\n",
        "\n"
      ]
    },
    {
      "cell_type": "markdown",
      "metadata": {
        "id": "bJrcs4KAP0S0"
      },
      "source": [
        "7.What is polymorphism in OOP?\n",
        "\n",
        "\n",
        "Ans -\n",
        "\n",
        " Polymorphism in Object-Oriented Programming (OOP) means \"many forms.\" It allows the same interface or method name to behave differently based on the object or context.\n",
        "\n",
        "\n",
        "🔹 Why Use Polymorphism?\n",
        "* Makes code flexible and extensible\n",
        "\n",
        "* Allows functions or methods to work with different types of objects seamlessly\n",
        "\n",
        "🔹 Types of Polymorphism:\n",
        "\n",
        "1.Compile-time (Static) — method overloading (not directly supported in Python)\n",
        "\n",
        "2.Run-time (Dynamic) — method overriding (common in Python, Java, etc.)\n",
        "\n",
        "🔹 Real-life Analogy:\n",
        "\n",
        "A remote control can operate different devices (TV, AC, etc.) — the interface (remote) is the same, but behavior changes based on the device.\n",
        "\n",
        "\n",
        "\n"
      ]
    },
    {
      "cell_type": "markdown",
      "metadata": {
        "id": "3lQlEb5fQ90d"
      },
      "source": [
        "8.How is encapsulation achieved in Python?\n",
        "\n",
        "Ans -\n",
        "\n",
        "Encapsulation in Python is achieved by restricting access to an object's internal attributes and methods. This is typically done using:\n",
        "\n",
        "1.**Naming conventions**:\n",
        "\n",
        "* public: Accessible from anywhere (e.g., self.name).\n",
        "\n",
        "* _protected: Intended for internal use (e.g., self._age).\n",
        "\n",
        "* __private: Name mangling to prevent direct access (e.g., self.__salary).\n",
        "\n",
        "2.**Getters and Setters: Methods that provide controlled access to private attributes.**\n",
        "\n",
        "\n",
        "    class Person:\n",
        "    def __init__(self, name):\n",
        "        self.name = name  # public\n",
        "        self.__age = 25   # private\n",
        "\n",
        "    def get_age(self):   # getter\n",
        "        return self.__age\n",
        "\n",
        "    def set_age(self, age):  # setter\n",
        "        if age > 0:\n",
        "            self.__age = age\n",
        "\n",
        "Encapsulation hides the internal state and ensures data integrity.\n",
        "\n",
        "\n",
        "\n",
        "\n",
        "\n",
        "\n",
        "\n",
        "\n"
      ]
    },
    {
      "cell_type": "markdown",
      "metadata": {
        "id": "O2kQ5KnAR2JR"
      },
      "source": [
        "9.What is a constructor in Python?\n",
        "\n",
        "\n",
        "Ans -\n",
        "\n",
        "A constructor in Python is a special method called __init__() that is automatically called when an object of a class is created. It is used to initialize the object's attributes (properties) and set up any necessary resources.\n",
        "\n",
        "**Key Points**:\n",
        "\n",
        "* Name: Always __init__(self).\n",
        "\n",
        "* Purpose: Initializes object attributes with values when the object is created.\n",
        "\n",
        "* Self: Refers to the instance of the object being created.\n",
        "\n",
        "\n",
        "\n"
      ]
    },
    {
      "cell_type": "markdown",
      "metadata": {
        "id": "t_q-O8uMSeaJ"
      },
      "source": [
        "10.What are class and static methods in Python?\n",
        "\n",
        "Ans -\n",
        "\n",
        "In Python, class methods and static methods are special types of methods that are associated with the class itself rather than with instances (objects) of the class. Here's the difference:\n",
        "\n",
        "* **Class Method:** A method that is bound to the class, not instances. It takes the class as the first argument (cls). It is used to modify class-level attributes or create factory methods.\n",
        "\n",
        "    \n",
        "          class myclass:\n",
        "               @classmethod\n",
        "        def my_method (cls):\n",
        "             pass\n",
        "\n",
        "* **Static Method:** A method that does not take self or cls as the first argument. It behaves like a regular function but belongs to the class's namespace. It does not require access to instance or class data.\n",
        "          class myclass:\n",
        "               @staticmethod\n",
        "        def my_method (cls):\n",
        "             pass\n",
        "\n"
      ]
    },
    {
      "cell_type": "markdown",
      "metadata": {
        "id": "79IDZ8RiXEBD"
      },
      "source": [
        "11.What is method overloading in Python?\n",
        "\n",
        "Ans -\n",
        "\n",
        "\n",
        "Method overloading in Python refers to defining multiple methods with the same name but different parameters. However, Python does not support true method overloading like some other languages (e.g., Java or C++) — you can't define multiple methods with the same name in one class.\n",
        "\n",
        "\n",
        "Instead, you can simulate method overloading using:\n",
        "\n",
        "🔹 1. Default Arguments\n",
        "\n",
        "    class Greet:\n",
        "    def hello(self, name=None):\n",
        "        if name:\n",
        "            print(f\"Hello, {name}!\")\n",
        "        else:\n",
        "            print(\"Hello!\")\n",
        "\n",
        "    g = Greet()\n",
        "    g.hello()          # Output: Hello!\n",
        "    g.hello(\"Alice\")   # Output: Hello, Alice!\n",
        "🔹 2. Variable-length Arguments (*args, **kwargs)\n",
        "\n",
        "    class Add:\n",
        "    def sum(self, *args):\n",
        "        return sum(args)\n",
        "\n",
        "    a = Add()\n",
        "    print(a.sum(2, 3))           # Output: 5\n",
        "    print(a.sum(1, 2, 3, 4))     # Output: 10\n",
        "\n",
        "🔹 Summary (Short Note):\n",
        "\n",
        "- Python does not support traditional method overloading.\n",
        "\n",
        "- It can be simulated using default arguments or *args and **kwargs.\n",
        "\n",
        "- Only the last defined method with a given name is kept if multiple are defined.\n",
        "\n",
        "\n"
      ]
    },
    {
      "cell_type": "markdown",
      "metadata": {
        "id": "5ybenZgOYS2s"
      },
      "source": [
        "12.What is method overriding in OOP?\n",
        "\n",
        "Ans -\n",
        "\n",
        "Method overriding in Object-Oriented Programming (OOP) is when a subclass (child class) provides a specific implementation of a method that is already defined in its superclass (parent class).\n",
        "\n",
        "🔹 Key Points:\n",
        "- The method in the child class must have the same name, arguments, and signature as in the parent class.\n",
        "\n",
        "- Used to customize or extend behavior of the parent class method.\n",
        "\n",
        "- Achieved automatically in languages like Python, Java, etc.\n",
        "\n",
        "🔹 Example in Python:\n",
        "\n",
        "    class Animal:\n",
        "    def speak(self):\n",
        "        print(\"Animal speaks\")\n",
        "\n",
        "    class Dog(Animal):\n",
        "    def speak(self):  # Overriding the parent method\n",
        "        print(\"Dog barks\")\n",
        "\n",
        "    d = Dog()\n",
        "    d.speak()  # Output: Dog barks\n",
        "\n",
        "\n",
        "Here, Dog overrides the speak() method of Animal.\n",
        "\n",
        "🔹 Summary (Short Note):\n",
        "\n",
        "Method overriding allows a subclass to redefine a method from its parent class to provide specific behavior. It supports polymorphism and enhances code flexibility.\n",
        "\n",
        "\n",
        "\n",
        "\n",
        "\n",
        "\n",
        "\n",
        "\n",
        "\n",
        "\n"
      ]
    },
    {
      "cell_type": "markdown",
      "metadata": {
        "id": "ZgZ5nxDzZgLr"
      },
      "source": [
        "13.What is a property decorator in Python?\n",
        "\n",
        "\n",
        "Ans -\n",
        "\n",
        "The @property decorator in Python is used to define a method as a getter, allowing it to be accessed like an attribute.\n",
        "\n",
        "🔹 Purpose:\n",
        "\n",
        "- To encapsulate data (combine method logic with attribute access).\n",
        "\n",
        "- Used for controlled access to private variables.\n",
        "\n",
        "Example :\n",
        "\n",
        "    class Person:\n",
        "    def __init__(self, name):\n",
        "        self._name = name\n",
        "\n",
        "    @property\n",
        "    def name(self):  # Acts like a getter\n",
        "        return self._name\n",
        "\n",
        "    p = Person(\"Alice\")\n",
        "    print(p.name)  # Output: Alice (called like an attribute)\n",
        "\n",
        "---\n",
        "🔹 Can Also Define:\n",
        "\n",
        "- @name.setter – to set the value\n",
        "\n",
        "- @name.deleter – to delete the value\n",
        "\n",
        "\n",
        "    @name.setter\n",
        "    def name(self, value):\n",
        "        self._name = value\n",
        "---\n",
        "\n",
        "🔹 Short Summary:\n",
        "\n",
        "The @property decorator turns a method into a read-only attribute, allowing cleaner and safer access to class data.\n",
        "\n",
        "\n",
        "\n",
        "\n",
        "\n",
        "\n",
        "\n",
        "\n",
        "\n",
        "\n",
        "\n",
        "  \n",
        "\n",
        "\n"
      ]
    },
    {
      "cell_type": "markdown",
      "metadata": {
        "id": "fXI9I__WaZPn"
      },
      "source": [
        "14.Why is polymorphism important in OOP?\n",
        "\n",
        "Ans -\n",
        "\n",
        "Polymorphism is important in OOP because it makes code more flexible, scalable, and maintainable. It allows objects of different classes to be treated through a common interface, typically using method overriding.\n",
        "\n",
        "**Why It's Important:**\n",
        "\n",
        "1.Code Reusability: Same function can work with different types of objects.\n",
        "\n",
        "2.Simplifies Code: Reduces conditional logic and type checks.\n",
        "\n",
        "3.Extensibility: New classes can easily be added without modifying existing code.\n",
        "\n",
        "4.Supports Dynamic Behavior: Method behavior is determined at runtime.\n",
        "\n",
        "Example:\n",
        "\n",
        "    class Animal:\n",
        "    def speak(self):\n",
        "        print(\"Animal speaks\")\n",
        "\n",
        "    class Dog(Animal):\n",
        "    def speak(self):\n",
        "        print(\"Dog barks\")\n",
        "\n",
        "    class Cat(Animal):\n",
        "    def speak(self):\n",
        "        print(\"Cat meows\")\n",
        "\n",
        "    def make_sound(animal):\n",
        "    animal.speak()\n",
        "\n",
        "    make_sound(Dog())   # Output: Dog barks\n",
        "    make_sound(Cat())   # Output: Cat meows\n",
        "\n",
        "\n",
        "\n",
        "Here, make_sound() works with any subclass of Animal, demonstrating polymorphism.\n",
        "\n",
        "**In Short:**\n",
        "\n",
        "Polymorphism allows different classes to be used interchangeably, making programs more generic and easier to extend.\n",
        "\n",
        "\n",
        "\n",
        "\n",
        "\n",
        "\n",
        "\n",
        "\n"
      ]
    },
    {
      "cell_type": "markdown",
      "metadata": {
        "id": "bmu4VYOtbjIN"
      },
      "source": [
        "15.What is an abstract class in Python?\n",
        "\n",
        "Ans -\n",
        "\n",
        "An abstract class in Python is a class that cannot be instantiated directly and is used as a blueprint for other classes. It can have abstract methods (methods without implementation) that must be overridden in derived (child) classes.\n",
        "\n",
        "🔹 Key Points:\n",
        "\n",
        "- Defined using the abc module (abc.ABC and @abstractmethod)\n",
        "\n",
        "- Used to enforce a common interface in subclasses\n",
        "\n",
        "- Helps in abstraction and code structure\n",
        "\n",
        "🔹Example:\n",
        "\n",
        "    from abc import ABC, abstractmethod\n",
        "\n",
        "    class Animal(ABC):              # Abstract class\n",
        "    @abstractmethod\n",
        "    def speak(self):            # Abstract method\n",
        "        pass\n",
        "\n",
        "    class Dog(Animal):\n",
        "    def speak(self):\n",
        "        print(\"Dog barks\")\n",
        "\n",
        "    d = Dog()\n",
        "    d.speak()                       # Output: Dog barks\n",
        "\n",
        "\n",
        "❌ You cannot create an object of Animal directly.\n",
        "\n",
        "✅ Any subclass must implement the speak() method.\n",
        "\n",
        "\n"
      ]
    },
    {
      "cell_type": "markdown",
      "metadata": {
        "id": "WNRbrCb0cQ0F"
      },
      "source": [
        "16.What are the advantages of OOP?\n",
        "\n",
        "Ans -\n",
        "\n",
        "Here are the main advantages of Object-Oriented Programming (OOP):\n",
        "\n",
        "🔹 1. Modularity\n",
        "\n",
        "- Code is organized into classes and objects, making it easier to manage and maintain.\n",
        "\n",
        "🔹 2. Reusability\n",
        "\n",
        "- Use inheritance to reuse existing code in new classes without rewriting it.\n",
        "\n",
        "🔹 3. Scalability\n",
        "\n",
        "- OOP makes it easy to expand and add new features without breaking existing code.\n",
        "\n",
        "🔹 4. Maintainability\n",
        "\n",
        "- Encapsulation keeps data safe and helps prevent unexpected changes, making debugging and updating simpler.\n",
        "\n",
        "🔹 5. Abstraction\n",
        "\n",
        "- Hides complex implementation details and shows only necessary features to the user.\n",
        "\n",
        "🔹 6. Polymorphism\n",
        "\n",
        "- The same interface can be used for different data types or classes, making code flexible and dynamic.\n",
        "\n",
        "🔹 7. Security\n",
        "\n",
        "- Encapsulation helps protect data by restricting direct access to it.\n",
        "\n"
      ]
    },
    {
      "cell_type": "markdown",
      "metadata": {
        "id": "dr3R0U_qdesg"
      },
      "source": [
        "17.What is the difference between a class variable and an instance variable?\n",
        "\n",
        "Ans -\n",
        "\n",
        "**Class Variable vs Instance Variable**\n",
        "\n",
        "\n",
        "**Class Variable:**\n",
        "\n",
        "\n",
        "- Shared by all objects of the class.\n",
        "\n",
        "- Defined outside methods.\n",
        "\n",
        "- Used for common data.\n",
        "\n",
        "- Accessed via ClassName.var or self.var.\n",
        "\n",
        "\n",
        "**Instance Variable:**\n",
        "\n",
        "- Unique to each object.\n",
        "\n",
        "- Defined inside methods (usually __init__).\n",
        "\n",
        "- Stores object-specific data.\n",
        "\n",
        "- Accessed via self.var.\n",
        "\n",
        "✅ Class variables = shared\n",
        "\n",
        "✅ Instance variables = personal to each object"
      ]
    },
    {
      "cell_type": "markdown",
      "metadata": {
        "id": "8ohRivEceHaI"
      },
      "source": [
        "18.What is multiple inheritance in Python?\n",
        "\n",
        " Ans -\n",
        "\n",
        "Multiple inheritance in Python is the ability of a class to inherit from more than one parent class. This allows the child class to access and use attributes and methods from multiple parent classes.\n",
        "\n",
        "\n",
        "🔹 How It Works:\n",
        "\n",
        "- A child class can inherit methods and attributes from multiple base classes.\n",
        "\n",
        "- It allows combining behaviors from different classes into a single class.\n",
        "\n",
        "🔹Example:\n",
        "\n",
        "    class Animal:\n",
        "    def speak(self):\n",
        "        print(\"Animal speaks\")\n",
        "\n",
        "    class Bird:\n",
        "    def fly(self):\n",
        "        print(\"Bird flies\")\n",
        "\n",
        "    class Bat(Animal, Bird):  # Multiple inheritance\n",
        "    def sound(self):\n",
        "        print(\"Bat makes sound\")\n",
        "\n",
        "    b = Bat()\n",
        "    b.speak()  # From Animal\n",
        "    b.fly()    # From Bird\n",
        "    b.sound()  # From Bat\n",
        "Here, the Bat class inherits from both Animal and Bird and can access methods from both.\n",
        "\n",
        "\n"
      ]
    },
    {
      "cell_type": "markdown",
      "metadata": {
        "id": "Si0c5KMAfIU0"
      },
      "source": [
        "19.Explain the purpose of ‘’__str__’ and ‘__repr__’ ‘ methods in Python.\n",
        "\n",
        "Ans -\n",
        "\n",
        "\n",
        "__str__() vs __repr__() in Python -\n",
        "\n",
        "**__str__():**\n",
        "\n",
        "- Purpose: Provides a user-friendly string representation of the object.\n",
        "\n",
        "- Called by: print() or str().\n",
        "\n",
        "- Output: Intended for end users (human-readable).\n",
        "\n",
        "**__repr__():**\n",
        "\n",
        "- Purpose: Provides a developer-friendly string representation of the object, ideally unambiguous.\n",
        "\n",
        "- Called by: repr() or when inspecting objects in the interactive shell.\n",
        "\n",
        "- Output: Should provide a valid Python expression to recreate the object (if possible).\n",
        "\n",
        "🔹 Key Difference:\n",
        "- __str__(): Intended for user-friendly output (e.g., print()).\n",
        "\n",
        "- __repr__(): Intended for developer-friendly output (e.g., in the interactive shell or debugging)."
      ]
    },
    {
      "cell_type": "markdown",
      "metadata": {
        "id": "_Ko9QJuigJ_r"
      },
      "source": [
        "20.What is the significance of the ‘super()’ function in Python?\n",
        "\n",
        "\n",
        "Ans -\n",
        "\n",
        "The super() function in Python is used to call methods from a parent class in a child class. It allows you to invoke the parent class's methods, which is especially useful when overriding methods in the child class or when working with multiple inheritance.\n",
        "\n",
        "🔹 Significance of super():\n",
        "\n",
        "- Method Resolution Order (MRO): Ensures that the method from the correct class in the inheritance hierarchy is called, following the method resolution order.\n",
        "\n",
        "- Access Parent Class Methods: Provides a way to call methods from the parent class without explicitly naming it.\n",
        "\n",
        "- Avoids Hardcoding Class Names: Makes code more maintainable and flexible, especially in a multiple inheritance scenario.\n",
        "\n",
        "🔹Example:\n",
        "\n",
        "    class Animal:\n",
        "    def speak(self):\n",
        "        print(\"Animal speaks\")\n",
        "\n",
        "    class Dog(Animal):\n",
        "    def speak(self):\n",
        "        super().speak()  # Call parent class method\n",
        "        print(\"Dog barks\")\n",
        "\n",
        "    d = Dog()\n",
        "    d.speak()\n",
        "\n",
        "Output:\n",
        "\n",
        "    Animal speaks\n",
        "    Dog barks\n",
        "\n",
        "Here, super().speak() calls the speak() method from the parent Animal class, allowing the child class Dog to extend or modify it.\n",
        "\n",
        "\n",
        "🔹In Short:\n",
        "\n",
        "super() allows access to the parent class's methods and is crucial for method overriding, especially in multiple inheritance scenarios. It ensures clean, maintainable, and reusable code.\n",
        "\n",
        "\n",
        "\n",
        "\n",
        "\n",
        "\n",
        "\n",
        "\n",
        "\n"
      ]
    },
    {
      "cell_type": "markdown",
      "metadata": {
        "id": "fKImxK6zhHhO"
      },
      "source": [
        "21.What is the significance of the __del__ method in Python?\n",
        "\n",
        "Ans -\n",
        "\n",
        "The __del__ method in Python is a destructor method, called when an object is about to be destroyed or garbage collected. It allows you to define cleanup actions for an object before it is removed from memory, such as closing files, releasing resources, or freeing up other external resources.\n",
        "\n",
        "🔹 Significance of __del__():\n",
        "\n",
        "1.Resource Management: Helps in cleaning up resources like file handles, network connections, or database connections that need to be closed before the object is deleted.\n",
        "\n",
        "2.Automatic Cleanup: It is automatically invoked when an object’s reference count drops to zero (i.e., when it's about to be garbage collected).\n",
        "\n",
        "🔹Example:\n",
        "\n",
        "    class FileHandler:\n",
        "    def __init__(self, filename):\n",
        "        self.filename = filename\n",
        "        self.file = open(filename, 'w')\n",
        "\n",
        "    def write(self, content):\n",
        "        self.file.write(content)\n",
        "\n",
        "    def __del__(self):\n",
        "        self.file.close()  # Cleanup, close the file when the object is deleted\n",
        "        print(f\"{self.filename} is closed.\")\n",
        "\n",
        "        #Creating and using the object\n",
        "    f = FileHandler(\"example.txt\")\n",
        "    f.write(\"Hello, world!\")\n",
        "    del f  # Explicitly delete the object\n",
        "\n",
        "    #Output:\n",
        "    #example.txt is closed.\n",
        "\n",
        "In this example, the __del__() method is used to close the file when the FileHandler object is deleted, ensuring the resource is cleaned up properly.\n",
        "\n",
        " 🔹 Important Notes:\n",
        "\n",
        "- Garbage Collection: The __del__() method is called by Python’s garbage collector when the object is no longer referenced.\n",
        "\n",
        "- Unreliable for Immediate Cleanup: In some cases (especially with circular references), __del__() may not be called immediately when the object goes out of scope.\n",
        "\n",
        "- Alternatives: For resource management, it’s often recommended to use the context manager (with statement) and __enter__()/__exit__() methods for predictable and explicit cleanup.\n",
        "\n",
        "🔹 In Short:\n",
        "\n",
        "__del__() is the destructor method in Python, used for cleaning up resources before an object is deleted or garbage collected.\n",
        "\n",
        "\n",
        "\n"
      ]
    },
    {
      "cell_type": "markdown",
      "metadata": {
        "id": "F7RFBUa-idR2"
      },
      "source": [
        "22.What is the difference between @staticmethod and @classmethod in Python?\n",
        "\n",
        "\n",
        "\n",
        "Ans -\n",
        "\n",
        "\n",
        "**@staticmethod:**\n",
        "\n",
        "- Not bound to the class or instance.\n",
        "\n",
        "- Does not take self or cls as the first argument.\n",
        "\n",
        "- Used for utility functions that don’t need access to class or instance data.\n",
        "\n",
        "**@classmethod:**\n",
        "\n",
        "- Bound to the class, takes cls as the first argument.\n",
        "\n",
        "- Can access and modify class-level data (attributes and methods).\n",
        "\n",
        "- Typically used for factory methods or methods that modify the class state.\n",
        "\n",
        "🔹 Summary (Short):\n",
        "\n",
        "- @staticmethod: Method not bound to an instance or class. Used for utility functions.\n",
        "\n",
        "- @classmethod: Method bound to the class, takes cls as the first argument, and can modify class-level data."
      ]
    },
    {
      "cell_type": "markdown",
      "metadata": {
        "id": "FngRYLvojGJj"
      },
      "source": [
        "23.How does polymorphism work in Python with inheritance?\n",
        "\n",
        "\n",
        "Ans -\n",
        "\n",
        "In Python, polymorphism allows objects of different classes to be treated as objects of a common superclass, with the ability to call methods of those objects in a unified way. When combined with inheritance, polymorphism allows a child class to provide its own implementation of a method defined in the parent class, enabling dynamic method invocation.\n",
        "\n",
        "\n",
        "\n",
        "🔹How Polymorphism Works in Python with Inheritance:\n",
        "\n",
        "- Inheritance: A child class inherits methods and properties from the parent class.\n",
        "\n",
        "- Method Overriding: A child class can override methods of the parent class, providing its own implementation.\n",
        "\n",
        "- Dynamic Method Binding: At runtime, Python will automatically call the overridden method of the child class, even if the method is called on a reference to the parent class.\n",
        "\n",
        "🔹Example:\n",
        "\n",
        "    class Animal:\n",
        "    def speak(self):\n",
        "        print(\"Animal speaks\")\n",
        "\n",
        "    class Dog(Animal):\n",
        "    def speak(self):  # Overriding parent method\n",
        "        print(\"Dog barks\")\n",
        "\n",
        "    class Cat(Animal):\n",
        "    def speak(self):  # Overriding parent method\n",
        "        print(\"Cat meows\")\n",
        "\n",
        "    def make_sound(animal):\n",
        "    animal.speak()\n",
        "\n",
        "    #Polymorphism in action\n",
        "    a = Animal()\n",
        "    d = Dog()\n",
        "    c = Cat()\n",
        "\n",
        "    make_sound(a)  # Output: Animal speaks\n",
        "    make_sound(d)  # Output: Dog barks\n",
        "    make_sound(c)  # Output: Cat meows\n",
        "\n",
        "🔹Key Points:\n",
        "\n",
        "- Polymorphism allows you to use a single interface (speak()) for objects of different classes (Animal, Dog, Cat).\n",
        "\n",
        "- The method invoked is determined by the actual object type at runtime, not the reference type, enabling dynamic behavior.\n",
        "\n",
        "🔹In Short:\n",
        "\n",
        "Polymorphism with inheritance in Python allows child classes to override parent class methods, and when called via a common parent reference, the correct method is chosen based on the actual object type at runtime.\n",
        "\n",
        "\n"
      ]
    },
    {
      "cell_type": "markdown",
      "metadata": {
        "id": "4HivD5hMkBha"
      },
      "source": [
        "24.What is method chaining in Python OOP?\n",
        "\n",
        "Ans -\n",
        "\n",
        "**Method Chaining in Python OOP**\n",
        "\n",
        "- Definition: Method chaining is a technique where multiple methods are called on the same object in a single line.\n",
        "\n",
        "- How It Works: Each method in the chain returns the object (self), allowing the next method to be called immediately.\n",
        "\n",
        "- Usage: Commonly used to apply a sequence of actions or modifications to an object concisely.\n",
        "\n",
        "Example:\n",
        "\n",
        "    class Car:\n",
        "    def accelerate(self, amount):\n",
        "        self.speed += amount\n",
        "        return self\n",
        "\n",
        "    def brake(self, amount):\n",
        "        self.speed -= amount\n",
        "        return self\n",
        "\n",
        "    car = Car()\n",
        "    car.accelerate(50).brake(20)  # Method chaining\n",
        "\n",
        "Advantage: Compact, readable, and efficient code.\n",
        "\n",
        "\n",
        "\n",
        "\n",
        "\n",
        "\n",
        "\n",
        "\n",
        "\n",
        "\n"
      ]
    },
    {
      "cell_type": "markdown",
      "metadata": {
        "id": "dsEzFbY0odH9"
      },
      "source": [
        "25.What is the purpose of the __call__ method in Python?\n",
        "\n",
        "\n",
        "Ans -\n",
        "\n",
        "The __call__ method in Python allows an object to be called like a function. When a class defines the __call__ method, its instances can be \"called\" using parentheses () as if they were functions.\n",
        "\n",
        "\n",
        "🔹 Purpose of __call__:\n",
        "\n",
        "- To make an object callable.\n",
        "\n",
        "- Adds function-like behavior to objects.\n",
        "\n",
        "- Useful for function wrappers, caching, stateful functions, or custom behavior when an object is \"called\".\n",
        "\n",
        "🔹Example :\n",
        "\n",
        "    class Greeter:\n",
        "    def __init__(self, name):\n",
        "        self.name = name\n",
        "\n",
        "    def __call__(self):\n",
        "        print(f\"Hello, {self.name}!\")\n",
        "\n",
        "    g = Greeter(\"Alice\")\n",
        "    g()  # Calls g.__call__(), Output: Hello, Alice!\n",
        "    \n",
        "Here, g() works like a function call because the Greeter class defines __call__.\n",
        "\n",
        "🔹 In Short:\n",
        "\n",
        "The __call__ method makes an object behave like a function. It is called when you use () on an instance of the class.\n",
        "\n",
        "\n",
        " ---\n",
        "\n",
        "\n",
        "\n"
      ]
    },
    {
      "cell_type": "markdown",
      "metadata": {
        "id": "ABu9PUB5Mi2n"
      },
      "source": [
        "#Practical Questions"
      ]
    },
    {
      "cell_type": "code",
      "execution_count": null,
      "metadata": {
        "colab": {
          "base_uri": "https://localhost:8080/"
        },
        "id": "fASauKqvNEYl",
        "outputId": "ff8e2713-198f-4905-ef01-a447d9d26186"
      },
      "outputs": [
        {
          "name": "stdout",
          "output_type": "stream",
          "text": [
            "The animal makes a sound.\n",
            "Bark!\n"
          ]
        }
      ],
      "source": [
        "#1. Create a parent class Animal with a method speak() that prints a generic message. Create a child class Dogthat overrides the speak() method to print \"Bark!\".\n",
        "\n",
        "# Parent class\n",
        "class Animal:\n",
        "    def speak(self):\n",
        "        print(\"The animal makes a sound.\")\n",
        "\n",
        "# Child class\n",
        "class Dog(Animal):\n",
        "    def speak(self):\n",
        "        print(\"Bark!\")\n",
        "\n",
        "# Example usage\n",
        "generic_animal = Animal()\n",
        "generic_animal.speak()  # Output: The animal makes a sound.\n",
        "\n",
        "dog = Dog()\n",
        "dog.speak()  # Output: Bark!\n"
      ]
    },
    {
      "cell_type": "code",
      "execution_count": null,
      "metadata": {
        "colab": {
          "base_uri": "https://localhost:8080/"
        },
        "id": "E-SIVZcUNmLe",
        "outputId": "7eccbd61-0f98-4dea-ff30-91b57c86396b"
      },
      "outputs": [
        {
          "name": "stdout",
          "output_type": "stream",
          "text": [
            "Circle Area: 78.53981633974483\n",
            "Rectangle Area: 24\n"
          ]
        }
      ],
      "source": [
        "#2. Write a program to create an abstract class Shape with a method area(). Derive classes Circle and Rectanglefrom it and implement the area() method in both.\n",
        "from abc import ABC, abstractmethod\n",
        "import math\n",
        "\n",
        "# Abstract class\n",
        "class Shape(ABC):\n",
        "    @abstractmethod\n",
        "    def area(self):\n",
        "        pass\n",
        "\n",
        "# Derived class: Circle\n",
        "class Circle(Shape):\n",
        "    def __init__(self, radius):\n",
        "        self.radius = radius\n",
        "\n",
        "    def area(self):\n",
        "        return math.pi * self.radius ** 2\n",
        "\n",
        "# Derived class: Rectangle\n",
        "class Rectangle(Shape):\n",
        "    def __init__(self, width, height):\n",
        "        self.width = width\n",
        "        self.height = height\n",
        "\n",
        "    def area(self):\n",
        "        return self.width * self.height\n",
        "\n",
        "# Example usage\n",
        "circle = Circle(5)\n",
        "rectangle = Rectangle(4, 6)\n",
        "\n",
        "print(\"Circle Area:\", circle.area())        # Output: Circle Area: 78.5398...\n",
        "print(\"Rectangle Area:\", rectangle.area())  # Output: Rectangle Area: 24\n"
      ]
    },
    {
      "cell_type": "code",
      "execution_count": null,
      "metadata": {
        "colab": {
          "base_uri": "https://localhost:8080/"
        },
        "id": "lY-wD3wON5yU",
        "outputId": "966de9a0-4ac4-4143-b95d-219c9b8f3318"
      },
      "outputs": [
        {
          "name": "stdout",
          "output_type": "stream",
          "text": [
            "Vehicle type: Electric Vehicle\n",
            "Car brand: Tesla\n",
            "Battery capacity: 75 kWh\n"
          ]
        }
      ],
      "source": [
        "#3. Implement a multi-level inheritance scenario where a class Vehicle has an attribute type. Derive a class Carand further derive a class ElectricCar that adds a battery attribute\n",
        "# Base class\n",
        "class Vehicle:\n",
        "    def __init__(self, type):\n",
        "        self.type = type\n",
        "\n",
        "    def display_type(self):\n",
        "        print(f\"Vehicle type: {self.type}\")\n",
        "\n",
        "# Derived class\n",
        "class Car(Vehicle):\n",
        "    def __init__(self, type, brand):\n",
        "        super().__init__(type)\n",
        "        self.brand = brand\n",
        "\n",
        "    def display_brand(self):\n",
        "        print(f\"Car brand: {self.brand}\")\n",
        "\n",
        "# Further derived class\n",
        "class ElectricCar(Car):\n",
        "    def __init__(self, type, brand, battery):\n",
        "        super().__init__(type, brand)\n",
        "        self.battery = battery\n",
        "\n",
        "    def display_battery(self):\n",
        "        print(f\"Battery capacity: {self.battery} kWh\")\n",
        "\n",
        "# Example usage\n",
        "tesla = ElectricCar(\"Electric Vehicle\", \"Tesla\", 75)\n",
        "tesla.display_type()      # Output: Vehicle type: Electric Vehicle\n",
        "tesla.display_brand()     # Output: Car brand: Tesla\n",
        "tesla.display_battery()   # Output: Battery capacity: 75 kWh\n"
      ]
    },
    {
      "cell_type": "code",
      "execution_count": null,
      "metadata": {
        "colab": {
          "base_uri": "https://localhost:8080/"
        },
        "id": "DNe_8XNIOF6l",
        "outputId": "03e2f4b3-f1ae-4a77-d921-b9377464ecbd"
      },
      "outputs": [
        {
          "name": "stdout",
          "output_type": "stream",
          "text": [
            "Sparrow flies high in the sky.\n",
            "Penguins cannot fly, but they swim well.\n"
          ]
        }
      ],
      "source": [
        "#4. Demonstrate polymorphism by creating a base class Bird with a method fly(). Create two derived classesSparrow and Penguin that override the fly() method.\n",
        "# Base class\n",
        "class Bird:\n",
        "    def fly(self):\n",
        "        print(\"Some bird is flying.\")\n",
        "\n",
        "# Derived class: Sparrow\n",
        "class Sparrow(Bird):\n",
        "    def fly(self):\n",
        "        print(\"Sparrow flies high in the sky.\")\n",
        "\n",
        "# Derived class: Penguin\n",
        "class Penguin(Bird):\n",
        "    def fly(self):\n",
        "        print(\"Penguins cannot fly, but they swim well.\")\n",
        "\n",
        "# Function to demonstrate polymorphism\n",
        "def show_flight(bird):\n",
        "    bird.fly()\n",
        "\n",
        "# Example usage\n",
        "sparrow = Sparrow()\n",
        "penguin = Penguin()\n",
        "\n",
        "show_flight(sparrow)  # Output: Sparrow flies high in the sky.\n",
        "show_flight(penguin)  # Output: Penguins cannot fly, but they swim well.\n"
      ]
    },
    {
      "cell_type": "code",
      "execution_count": null,
      "metadata": {
        "colab": {
          "base_uri": "https://localhost:8080/"
        },
        "id": "4Gowd4dvOPC9",
        "outputId": "41692097-7baf-4f04-821c-9f5a4a45aa5a"
      },
      "outputs": [
        {
          "name": "stdout",
          "output_type": "stream",
          "text": [
            "Current Balance: $100\n",
            "Deposited: $50\n",
            "Withdrawn: $30\n",
            "Current Balance: $120\n"
          ]
        }
      ],
      "source": [
        "#5. Write a program to demonstrate encapsulation by creating a class BankAccount with private attributesbalance and methods to deposit, withdraw, and check balance.\n",
        "class BankAccount:\n",
        "    def __init__(self, initial_balance=0):\n",
        "        self.__balance = initial_balance  # Private attribute\n",
        "\n",
        "    # Method to deposit money\n",
        "    def deposit(self, amount):\n",
        "        if amount > 0:\n",
        "            self.__balance += amount\n",
        "            print(f\"Deposited: ${amount}\")\n",
        "        else:\n",
        "            print(\"Deposit amount must be positive.\")\n",
        "\n",
        "    # Method to withdraw money\n",
        "    def withdraw(self, amount):\n",
        "        if 0 < amount <= self.__balance:\n",
        "            self.__balance -= amount\n",
        "            print(f\"Withdrawn: ${amount}\")\n",
        "        else:\n",
        "            print(\"Insufficient balance or invalid amount.\")\n",
        "\n",
        "    # Method to check balance\n",
        "    def check_balance(self):\n",
        "        print(f\"Current Balance: ${self.__balance}\")\n",
        "\n",
        "# Example usage\n",
        "account = BankAccount(100)\n",
        "account.check_balance()     # Output: Current Balance: $100\n",
        "account.deposit(50)         # Output: Deposited: $50\n",
        "account.withdraw(30)        # Output: Withdrawn: $30\n",
        "account.check_balance()     # Output: Current Balance: $120\n",
        "\n",
        "# Trying to access private attribute directly (not recommended)\n",
        "# print(account.__balance)  # This will raise an AttributeError\n"
      ]
    },
    {
      "cell_type": "code",
      "execution_count": null,
      "metadata": {
        "colab": {
          "base_uri": "https://localhost:8080/"
        },
        "id": "viww5RmgOc6d",
        "outputId": "f1adb446-b1fd-49a2-e670-c66e2712b65d"
      },
      "outputs": [
        {
          "name": "stdout",
          "output_type": "stream",
          "text": [
            "Strumming the guitar.\n",
            "Playing the piano.\n"
          ]
        }
      ],
      "source": [
        "#6. Demonstrate runtime polymorphism using a method play() in a base class Instrument. Derive classes Guitarand Piano that implement their own version of play()\n",
        "# Base class\n",
        "class Instrument:\n",
        "    def play(self):\n",
        "        print(\"Playing some instrument.\")\n",
        "\n",
        "# Derived class: Guitar\n",
        "class Guitar(Instrument):\n",
        "    def play(self):\n",
        "        print(\"Strumming the guitar.\")\n",
        "\n",
        "# Derived class: Piano\n",
        "class Piano(Instrument):\n",
        "    def play(self):\n",
        "        print(\"Playing the piano.\")\n",
        "\n",
        "# Function to demonstrate runtime polymorphism\n",
        "def start_playing(instrument: Instrument):\n",
        "    instrument.play()\n",
        "\n",
        "# Example usage\n",
        "guitar = Guitar()\n",
        "piano = Piano()\n",
        "\n",
        "start_playing(guitar)  # Output: Strumming the guitar.\n",
        "start_playing(piano)   # Output: Playing the piano.\n"
      ]
    },
    {
      "cell_type": "code",
      "execution_count": null,
      "metadata": {
        "colab": {
          "base_uri": "https://localhost:8080/"
        },
        "id": "nBU-nyN_OmQl",
        "outputId": "8622f892-8977-4d15-ba74-3f39fa740c55"
      },
      "outputs": [
        {
          "name": "stdout",
          "output_type": "stream",
          "text": [
            "Sum: 15\n",
            "Difference: 5\n"
          ]
        }
      ],
      "source": [
        "#7. Create a class MathOperations with a class method add_numbers() to add two numbers and a staticmethod subtract_numbers() to subtract two numbers.\n",
        "class MathOperations:\n",
        "    # Class method\n",
        "    @classmethod\n",
        "    def add_numbers(cls, a, b):\n",
        "        return a + b\n",
        "\n",
        "    # Static method\n",
        "    @staticmethod\n",
        "    def subtract_numbers(a, b):\n",
        "        return a - b\n",
        "\n",
        "# Example usage\n",
        "sum_result = MathOperations.add_numbers(10, 5)\n",
        "diff_result = MathOperations.subtract_numbers(10, 5)\n",
        "\n",
        "print(\"Sum:\", sum_result)           # Output: Sum: 15\n",
        "print(\"Difference:\", diff_result)   # Output: Difference: 5\n"
      ]
    },
    {
      "cell_type": "code",
      "execution_count": null,
      "metadata": {
        "colab": {
          "base_uri": "https://localhost:8080/"
        },
        "id": "SK6NK-InOvBj",
        "outputId": "1a426292-f1f7-48ee-a87c-f47c59e42a90"
      },
      "outputs": [
        {
          "name": "stdout",
          "output_type": "stream",
          "text": [
            "Total persons created: 3\n"
          ]
        }
      ],
      "source": [
        "#8. Implement a class Person with a class method to count the total number of persons created.\n",
        "\n",
        "\n",
        "class Person:\n",
        "    count = 0  # Class variable to track number of persons\n",
        "\n",
        "    def __init__(self, name):\n",
        "        self.name = name\n",
        "        Person.count += 1  # Increment count when a new person is created\n",
        "\n",
        "    @classmethod\n",
        "    def total_persons(cls):\n",
        "        return cls.count\n",
        "\n",
        "# Example usage\n",
        "p1 = Person(\"Alice\")\n",
        "p2 = Person(\"Bob\")\n",
        "p3 = Person(\"Charlie\")\n",
        "\n",
        "print(\"Total persons created:\", Person.total_persons())\n",
        "# Output: Total persons created: 3\n"
      ]
    },
    {
      "cell_type": "code",
      "execution_count": null,
      "metadata": {
        "colab": {
          "base_uri": "https://localhost:8080/"
        },
        "id": "JeCBwdLrOzML",
        "outputId": "0f57445e-c283-4aaf-ebba-71769b07c45c"
      },
      "outputs": [
        {
          "name": "stdout",
          "output_type": "stream",
          "text": [
            "3/4\n",
            "5/8\n"
          ]
        }
      ],
      "source": [
        "#9. Write a class Fraction with attributes numerator and denominator. Override the str method to display the fraction as \"numerator/denominator\".\n",
        "class Fraction:\n",
        "    def __init__(self, numerator, denominator):\n",
        "        self.numerator = numerator\n",
        "        self.denominator = denominator\n",
        "\n",
        "    def __str__(self):\n",
        "        return f\"{self.numerator}/{self.denominator}\"\n",
        "\n",
        " #Example usage\n",
        "f1 = Fraction(3, 4)\n",
        "f2 = Fraction(5, 8)\n",
        "\n",
        "print(f1)\n",
        "print(f2)"
      ]
    },
    {
      "cell_type": "code",
      "execution_count": null,
      "metadata": {
        "colab": {
          "base_uri": "https://localhost:8080/"
        },
        "id": "kTFc4PXWRkSt",
        "outputId": "e32b3555-0c8b-40be-b5c0-963e2b42ca7a"
      },
      "outputs": [
        {
          "name": "stdout",
          "output_type": "stream",
          "text": [
            "v1: vector(4, 5)\n",
            "v2: vector(6, 7)\n",
            "v3: vector(10, 12)\n"
          ]
        }
      ],
      "source": [
        "#10. Demonstrate operator overloading by creating a class Vector and overriding the add method to add twovectors.\n",
        "class Vector:\n",
        "    def __init__(self, x, y):\n",
        "        self.x = x\n",
        "        self.y = y\n",
        "    # Overloading the + operator\n",
        "    def __add__(self, other):\n",
        "         return Vector(self.x + other.x, self.y + other.y)\n",
        "    # String representation\n",
        "    def __str__(self):\n",
        "                return f\"vector({self.x}, {self.y})\"\n",
        "\n",
        "    # Example Usage\n",
        "    v1 = Vector(4, 5)\n",
        "    v2 = Vector(6, 7)\n",
        "    v3 = v1 + v2  # This uses the overloaded __add__ method\n",
        "    print(\"v1:\", v1)  # Output: Vector(4, 5)\n",
        "    print(\"v2:\", v2)  # Output: Vector(6, 7)\n",
        "    print(\"v3:\", v3)  # Output: Vector(10,\n"
      ]
    },
    {
      "cell_type": "code",
      "execution_count": null,
      "metadata": {
        "colab": {
          "base_uri": "https://localhost:8080/"
        },
        "id": "jjDIYvpKULJ4",
        "outputId": "a6745ed1-b157-4471-e6ac-3183dc6fdcf2"
      },
      "outputs": [
        {
          "name": "stdout",
          "output_type": "stream",
          "text": [
            "Hello, my name is Nobody and i am 22 year old.\n",
            "Hello, my name is vaishnavi and i am 23 year old.\n"
          ]
        }
      ],
      "source": [
        "#11. Create a class Person with attributes name and age. Add a method greet() that prints \"Hello, my name is{name} and I am {age} years old.\n",
        "class Person:\n",
        "    def __init__(self, name, age):\n",
        "        self.name = name\n",
        "        self.age = age\n",
        "\n",
        "    def greet(self):\n",
        "         print(f\"Hello, my name is {self.name} and i am {self.age} year old.\")\n",
        "\n",
        "#Example usage\n",
        "person1 = Person(\"Nobody\",22)\n",
        "person2 = Person(\"vaishnavi\", 23)\n",
        "\n",
        "person1.greet() # Changed Person1 to Person1\n",
        "person2.greet() # Changed Person2 to person2"
      ]
    },
    {
      "cell_type": "code",
      "source": [
        "#12. Implement a class Student with attributes name and grades. Create a method average_grade() to computethe average of the grades.\n",
        "class student:\n",
        "    def __init__(self, name, grades):\n",
        "        self.name = name\n",
        "        self.grades = grades  # grades should be a list of numbers\n",
        "\n",
        "    def average_grade(self):\n",
        "        if len(self.grades) > 0:\n",
        "            return sum(self.grades) / len(self.grades)\n",
        "        else:\n",
        "            return 0  # if there are no grades, return 0\n",
        "\n",
        "# Example usage\n",
        "student1 = student(\"Nobody\", [70, 75, 70, 79])\n",
        "student2 = student(\"Vaishnavi\", [80, 85, 90, 95])\n",
        "student3 = student(\"Mamitha\", [90, 95, 100, 100])\n",
        "\n",
        "print(f\"{student1.name}'s average grade is {student1.average_grade():.2f}\")\n",
        "print(f\"{student2.name}'s average grade is {student2.average_grade():.2f}\")\n",
        "print(f\"{student3.name}'s average grade is {student3.average_grade():.2f}\")\n",
        "\n"
      ],
      "metadata": {
        "colab": {
          "base_uri": "https://localhost:8080/"
        },
        "id": "P9-GQBX9yvgb",
        "outputId": "8843739d-6092-4520-ac7d-c5dbda3d3659"
      },
      "execution_count": null,
      "outputs": [
        {
          "output_type": "stream",
          "name": "stdout",
          "text": [
            "Nobody's average grade is 73.50\n",
            "Vaishnavi's average grade is 87.50\n",
            "Mamitha's average grade is 96.25\n"
          ]
        }
      ]
    },
    {
      "cell_type": "code",
      "source": [
        "#13. Create a class Rectangle with methods set_dimensions() to set the dimensions and area() to calculate the area.\n",
        "class Rectangle:\n",
        "    def __init__(self):\n",
        "        self.width = 0\n",
        "        self.height = 0\n",
        "\n",
        "    def set_dimensions(self, width, height):\n",
        "        self.width = width\n",
        "        self.height = height\n",
        "\n",
        "    def area(self):\n",
        "        return self.width * self.height\n",
        "\n",
        "# Example usage\n",
        "rect1 = Rectangle()\n",
        "rect1.set_dimensions(5, 10)\n",
        "print(f\"Area of rectangle: {rect1.area()}\")  # Output: Area of rectangle: 50\n",
        "\n",
        "rect2 = Rectangle()\n",
        "rect2.set_dimensions(7, 3)\n",
        "print(f\"Area of rectangle: {rect2.area()}\")  # Output: Area of rectangle: 21\n"
      ],
      "metadata": {
        "colab": {
          "base_uri": "https://localhost:8080/"
        },
        "id": "iNwrpBvj6lqb",
        "outputId": "ace80cd1-d188-45da-cd54-7e3e52541789"
      },
      "execution_count": null,
      "outputs": [
        {
          "output_type": "stream",
          "name": "stdout",
          "text": [
            "Area of rectangle: 50\n",
            "Area of rectangle: 21\n"
          ]
        }
      ]
    },
    {
      "cell_type": "code",
      "source": [
        "#14. Create a class Employee with a method calculate_salary() that computes the salary based on hours workedand hourly rate. Create a derived class Manager that adds a bonus to the salary.\n",
        "class Employee:\n",
        "    def __init__(self, name, hours_worked, hourly_rate):\n",
        "        self.name = name\n",
        "        self.hours_worked = hours_worked\n",
        "        self.hourly_rate = hourly_rate\n",
        "\n",
        "    def calculate_salary(self):\n",
        "        return self.hours_worked * self.hourly_rate\n",
        "\n",
        "class Manager(Employee):\n",
        "    def __init__(self, name, hours_worked, hourly_rate, bonus):\n",
        "        super().__init__(name, hours_worked, hourly_rate)\n",
        "        self.bonus = bonus\n",
        "\n",
        "    def calculate_salary(self):\n",
        "        base_salary = super().calculate_salary()\n",
        "        return base_salary + self.bonus\n",
        "\n",
        "# Example usage\n",
        "emp1 = Employee(\"Nobody\", 40, 20)\n",
        "mgr1 = Manager(\"Vaishnavi\", 45, 30, 500)\n",
        "\n",
        "print(f\"{emp1.name}'s salary is ${emp1.calculate_salary()}\")\n",
        "print(f\"{mgr1.name}'s salary is ${mgr1.calculate_salary()}\")\n"
      ],
      "metadata": {
        "colab": {
          "base_uri": "https://localhost:8080/"
        },
        "id": "-dowdfep6uKi",
        "outputId": "52138e38-f1a6-4c31-b887-edb03d563bc4"
      },
      "execution_count": null,
      "outputs": [
        {
          "output_type": "stream",
          "name": "stdout",
          "text": [
            "Nobody's salary is $800\n",
            "Vaishnavi's salary is $1850\n"
          ]
        }
      ]
    },
    {
      "cell_type": "code",
      "source": [
        "#15. Create a class Product with attributes name, price, and quantity. Implement a method total_price() thatcalculates the total price of the product.\n",
        "class Product:\n",
        "    def __init__(self, name, price, quantity):\n",
        "        self.name = name\n",
        "        self.price = price\n",
        "        self.quantity = quantity\n",
        "\n",
        "    def total_price(self):\n",
        "        return self.price * self.quantity\n",
        "\n",
        "# Example usage\n",
        "product1 = Product(\"Laptop\", 1000, 2)\n",
        "product2 = Product(\"Headphones\", 150, 3)\n",
        "\n",
        "print(f\"Total price of {product1.name}s: ${product1.total_price()}\")\n",
        "print(f\"Total price of {product2.name}s: ${product2.total_price()}\")\n",
        "\n",
        "\n"
      ],
      "metadata": {
        "colab": {
          "base_uri": "https://localhost:8080/"
        },
        "id": "YJ2CN96s6wla",
        "outputId": "5aedc3ae-65ae-4e12-cafb-9b30bfa48572"
      },
      "execution_count": null,
      "outputs": [
        {
          "output_type": "stream",
          "name": "stdout",
          "text": [
            "Total price of Laptops: $2000\n",
            "Total price of Headphoness: $450\n"
          ]
        }
      ]
    },
    {
      "cell_type": "code",
      "source": [
        "#16. Create a class Animal with an abstract method sound(). Create two derived classes Cow and Sheep thatimplement the sound() method.\n",
        "from abc import ABC, abstractmethod\n",
        "\n",
        "# Abstract Base Class\n",
        "class Animal(ABC):\n",
        "    @abstractmethod\n",
        "    def sound(self):\n",
        "        pass\n",
        "\n",
        "# Derived Class: Cow\n",
        "class Cow(Animal):\n",
        "    def sound(self):\n",
        "        return \"Moo\"\n",
        "\n",
        "# Derived Class: Sheep\n",
        "class Sheep(Animal):\n",
        "    def sound(self):\n",
        "        return \"Baa\"\n",
        "\n",
        "# Example usage\n",
        "cow = Cow()\n",
        "sheep = Sheep()\n",
        "\n",
        "print(f\"Cow says: {cow.sound()}\")\n",
        "print(f\"Sheep says: {sheep.sound()}\")\n"
      ],
      "metadata": {
        "colab": {
          "base_uri": "https://localhost:8080/"
        },
        "id": "z_SZDpwH8gc5",
        "outputId": "88fc1390-693e-4dd5-8385-5f8b95538b65"
      },
      "execution_count": null,
      "outputs": [
        {
          "output_type": "stream",
          "name": "stdout",
          "text": [
            "Cow says: Moo\n",
            "Sheep says: Baa\n"
          ]
        }
      ]
    },
    {
      "cell_type": "code",
      "source": [
        "#17. Create a class Book with attributes title, author, and year_published. Add a method get_book_info() thatreturns a formatted string with the book's details.\n",
        "class Book:\n",
        "    def __init__(self, title, author, year_published):\n",
        "        self.title = title\n",
        "        self.author = author\n",
        "        self.year_published = year_published\n",
        "\n",
        "    def get_book_info(self):\n",
        "        return f\"'{self.title}' by {self.author} (Published in {self.year_published})\"\n",
        "\n",
        "# Example usage\n",
        "book1 = Book(\"To Kill a Mockingbird\", \"Harper Lee\", 1960)\n",
        "book2 = Book(\"1984\", \"George Orwell\", 1949)\n",
        "\n",
        "print(book1.get_book_info())\n",
        "print(book2.get_book_info())\n"
      ],
      "metadata": {
        "colab": {
          "base_uri": "https://localhost:8080/"
        },
        "id": "HW8eCBj98wMU",
        "outputId": "a5205794-eaab-4172-b8e2-82031c78de35"
      },
      "execution_count": null,
      "outputs": [
        {
          "output_type": "stream",
          "name": "stdout",
          "text": [
            "'To Kill a Mockingbird' by Harper Lee (Published in 1960)\n",
            "'1984' by George Orwell (Published in 1949)\n"
          ]
        }
      ]
    },
    {
      "cell_type": "code",
      "source": [
        "#18. Create a class House with attributes address and price. Create a derived class Mansion that adds an attribute number_of_rooms.\n",
        "class House:\n",
        "    def __init__(self, address, price):\n",
        "        self.address = address\n",
        "        self.price = price\n",
        "\n",
        "    def get_info(self):\n",
        "        return f\"Address: {self.address}, Price: ${self.price}\"\n",
        "\n",
        "class Mansion(House):\n",
        "    def __init__(self, address, price, number_of_rooms):\n",
        "        super().__init__(address, price)\n",
        "        self.number_of_rooms = number_of_rooms\n",
        "\n",
        "    def get_info(self):\n",
        "        return f\"Address: {self.address}, Price: ${self.price}, Rooms: {self.number_of_rooms}\"\n",
        "\n",
        "# Example usage\n",
        "house1 = House(\"123 Main St\", 250000)\n",
        "mansion1 = Mansion(\"456 Luxury Blvd\", 2000000, 12)\n",
        "\n",
        "print(house1.get_info())\n",
        "print(mansion1.get_info())\n"
      ],
      "metadata": {
        "colab": {
          "base_uri": "https://localhost:8080/"
        },
        "id": "5JTTIvv-9CSE",
        "outputId": "b72ca1f6-63b4-479f-f8b5-c61981f0f425"
      },
      "execution_count": 142,
      "outputs": [
        {
          "output_type": "stream",
          "name": "stdout",
          "text": [
            "Address: 123 Main St, Price: $250000\n",
            "Address: 456 Luxury Blvd, Price: $2000000, Rooms: 12\n"
          ]
        }
      ]
    }
  ],
  "metadata": {
    "colab": {
      "provenance": []
    },
    "kernelspec": {
      "display_name": "Python 3",
      "name": "python3"
    },
    "language_info": {
      "name": "python"
    }
  },
  "nbformat": 4,
  "nbformat_minor": 0
}